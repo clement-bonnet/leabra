{
 "cells": [
  {
   "cell_type": "code",
   "execution_count": 1,
   "id": "talented-vermont",
   "metadata": {},
   "outputs": [],
   "source": [
    "import logging\n",
    "import sys\n",
    "from typing import Any, Dict, List, Iterable, Tuple, Union\n",
    "import warnings\n",
    "warnings.filterwarnings('ignore')\n",
    "\n",
    "import leabra7 as lb\n",
    "import matplotlib.pyplot as plt\n",
    "import numpy as np\n",
    "import pandas as pd\n",
    "from sklearn.metrics import accuracy_score, mean_squared_error\n",
    "from torchvision.datasets import MNIST\n",
    "from torch.utils.data import DataLoader, random_split\n",
    "from torchvision import transforms\n",
    "import torch\n",
    "from torch import nn\n",
    "from torch.optim import Adam\n",
    "from tqdm.auto import tqdm"
   ]
  },
  {
   "cell_type": "code",
   "execution_count": 2,
   "id": "clinical-smell",
   "metadata": {},
   "outputs": [],
   "source": [
    "LoggerType = Union[None, logging.Logger, logging.LoggerAdapter]"
   ]
  },
  {
   "cell_type": "code",
   "execution_count": 3,
   "id": "confident-associate",
   "metadata": {},
   "outputs": [],
   "source": [
    "def load_data(logger: LoggerType = None,\n",
    "              threshold: int = 128,\n",
    "              train_length:int = None,\n",
    "              test_length:int = None) -> Tuple[np.ndarray, np.ndarray, np.ndarray, np.ndarray]:\n",
    "    \"\"\"Loads and preprocesses the data.\n",
    "    \n",
    "    Returns:\n",
    "        An (X, Y) tuple containing the features and labels, respectively.\n",
    "    \"\"\"\n",
    "    if logger is None:\n",
    "        logger = logging.getLogger()\n",
    "    else:\n",
    "        logger.info(\"Loading data\")\n",
    "    train_set = MNIST(root=\"./data\", train=True, download=True)\n",
    "    test_set = MNIST(root=\"./data\", train=False, download=True)\n",
    "    X_train = (train_set.data > threshold).flatten(1).int()[:train_length]\n",
    "    Y_train = nn.functional.one_hot(train_set.targets)[:train_length]\n",
    "    X_test = (test_set.data > threshold).flatten(1).int()[:test_length]\n",
    "    Y_test = nn.functional.one_hot(test_set.targets)[:test_length]\n",
    "    return (X_train, Y_train, X_test, Y_test)\n",
    "\n",
    "\n",
    "def build_network(input_size: int,\n",
    "                  hidden_size: int,\n",
    "                  output_size: int,\n",
    "                  logger: LoggerType = None,\n",
    "                  lrate: float = 0.02) -> lb.Net:\n",
    "    \"\"\"Builds the classifier network.\n",
    "    \n",
    "    Args:\n",
    "        input_size: The size of the input layer.\n",
    "        hidden_size: The size of the hidden layer.\n",
    "        output_size: The size of the output layer.\n",
    "        logger: The logger to use.\n",
    "    \n",
    "    Returns:\n",
    "        A Leabra7 network for classification.\n",
    "    \"\"\"\n",
    "    if logger is None:\n",
    "        logger = logging.getLogger()\n",
    "    logger.info(\"Building network\")\n",
    "    net = lb.Net()\n",
    "    \n",
    "    # Layers\n",
    "    layer_spec = lb.LayerSpec(gi=1.5, ff=1, fb=1,\n",
    "    unit_spec=lb.UnitSpec(spike_gain=0, vm_gain=0, adapt_dt=0))\n",
    "    net.new_layer(\"input\", size=input_size, spec=layer_spec)\n",
    "    net.new_layer(\"hidden\", size=hidden_size, spec=layer_spec)\n",
    "    net.new_layer(\"output\", size=output_size, spec=layer_spec)\n",
    "    logger.debug(\"Input layer size: %d\", input_size)\n",
    "    logger.debug(\"Hidden layer size: %d\", hidden_size)\n",
    "    logger.debug(\"Output layer size: %d\", output_size)\n",
    "    \n",
    "    # Projections\n",
    "    up_spec = lb.ProjnSpec(\n",
    "        lrate=lrate,\n",
    "        dist=lb.Uniform(0.25, 0.75),\n",
    "        cos_diff_thr_l_mix=False,\n",
    "        cos_diff_lrate=False)\n",
    "    down_spec = lb.ProjnSpec(\n",
    "        lrate=lrate,\n",
    "        dist=lb.Uniform(0.25, 0.5),\n",
    "        wt_scale_rel=0.3,\n",
    "        cos_diff_thr_l_mix=False,\n",
    "        cos_diff_lrate=False)\n",
    "    net.new_projn(\n",
    "        \"input_to_hidden\", pre=\"input\", post=\"hidden\", spec=up_spec)\n",
    "    net.new_projn(\n",
    "        \"hidden_to_output\", pre=\"hidden\", post=\"output\", spec=up_spec)\n",
    "    net.new_projn(\n",
    "        \"output_to_hidden\", pre=\"output\", post=\"hidden\", spec=down_spec)\n",
    "    \n",
    "    return net\n",
    "\n",
    "def trial(network: lb.Net, input_pattern: Iterable[float],\n",
    "          output_pattern: Iterable[float]) -> None:\n",
    "    \"\"\"Runs a trial.\n",
    "    \n",
    "    Args:\n",
    "        input_pattern: The pattern to clamp to the network's input layer.\n",
    "        output_pattern: The pattern to clamp to the network's output layer.\n",
    "    \"\"\"\n",
    "    network.clamp_layer(\"input\", input_pattern)\n",
    "    network.minus_phase_cycle(num_cycles=50)\n",
    "    network.clamp_layer(\"output\", output_pattern)\n",
    "    network.plus_phase_cycle(num_cycles=25)\n",
    "    network.unclamp_layer(\"input\")\n",
    "    network.unclamp_layer(\"output\")\n",
    "    network.learn()\n",
    "    \n",
    "def epoch(network: lb.Net,\n",
    "          X: np.ndarray,\n",
    "          Y: np.ndarray) -> None:\n",
    "    \"\"\"Runs an epoch (one pass through the whole dataset).\n",
    "    \n",
    "    Args:\n",
    "        input_patterns: A numpy array with shape (n_samples, n_features).\n",
    "        output_patterns: A numpy array with shape (n_samples, n_features).\n",
    "    \"\"\"\n",
    "    for x, y in tqdm(zip(X, Y), total=len(X), leave=False):\n",
    "        trial(network, x, y)\n",
    "    network.end_epoch()\n",
    "    \n",
    "def train(network: lb.Net,\n",
    "          X_train: np.ndarray,\n",
    "          Y_train: np.ndarray,\n",
    "          X_test: np.ndarray,\n",
    "          Y_test: np.ndarray,\n",
    "          num_epochs: int = 10,\n",
    "          print_freq: int = 1,\n",
    "          logger: LoggerType = None) -> pd.DataFrame:\n",
    "    \"\"\"Trains the network.\n",
    "    \n",
    "    Args:\n",
    "        input_patterns: A numpy array with shape (n_samples, n_features).\n",
    "        output_patterns: A numpy array with shape (n_samples, n_features).\n",
    "        num_epochs: The number of epochs to run. Defaults to 500.\n",
    "        print_freq: Frequency of predictions. Defaults to 5.\n",
    "        logger: The logger to use. If None, will use the module's default logger.\n",
    "    \n",
    "    Returns:\n",
    "        29pd.DataFrame:\n",
    "        A dataframe of metrics from the training run.\n",
    "    \"\"\"\n",
    "    if logger is None:\n",
    "        logger = logging.getLogger()\n",
    "    logger.info(\"Begin training\")\n",
    "    \n",
    "    logger.debug(\"Training set size: %d\", X_train.shape[0])\n",
    "    logger.debug(\"Test set size: %d\", X_test.shape[0])\n",
    "    \n",
    "    data: Dict[str, List[float]] = {\n",
    "        \"epoch\": [],\n",
    "        \"train_loss\": [],\n",
    "        \"train_accuracy\": [],\n",
    "        \"test_loss\": [],\n",
    "        \"test_accuracy\": []\n",
    "    }\n",
    "        \n",
    "    for i in range(1, num_epochs + 1):\n",
    "        epoch(network, X_train, Y_train)\n",
    "        # Predicting is slow\n",
    "        if i % print_freq == 0:\n",
    "            pred_train = predict(network, X_train)\n",
    "            data[\"epoch\"].append(i)\n",
    "            train_loss = mean_squared_error(Y_train, pred_train)\n",
    "            data[\"train_loss\"].append(train_loss)\n",
    "            train_acc = accuracy_score(Y_train, pred_train, normalize=True)\n",
    "            data[\"train_accuracy\"].append(train_acc)\n",
    "            pred_test = predict(network, X_test)\n",
    "            test_loss = mean_squared_error(Y_test, pred_test)\n",
    "            data[\"test_loss\"].append(test_loss)\n",
    "            test_acc = accuracy_score(Y_test, pred_test, normalize=True)\n",
    "            data[\"test_accuracy\"].append(test_acc)\n",
    "            \n",
    "            logger.info('[Epoch {}]  train_loss: {:.4f}  train_accuracy: {:.2f}  test_loss: {:.4f}  test_accuracy: {:.2f}'.format(\n",
    "                i, train_loss, train_acc, test_loss, test_acc))\n",
    "    logger.info(\"End training\")\n",
    "    return pd.DataFrame(data)\n",
    "\n",
    "def output(network: lb.Net, pattern: Iterable[float]) -> List[float]:\n",
    "    \"\"\"Calculates a prediction for a single input pattern.\n",
    "    \n",
    "    Args:\n",
    "        network: The trained network.\n",
    "        pattern: The input pattern.\n",
    "    \n",
    "    Returns:\n",
    "        np.ndarray: The output of the network after clamping the input\n",
    "        pattern to the input layer and settling. The max value is set to one,\n",
    "        everything else is set to zero.\n",
    "    \"\"\"\n",
    "    network.clamp_layer(\"input\", pattern)\n",
    "    for _ in range(50):\n",
    "        network.cycle()\n",
    "    network.unclamp_layer(\"input\")\n",
    "    out = network.observe(\"output\", \"unit_act\")[\"act\"].values\n",
    "    max_idx = np.argmax(out)\n",
    "    out[:] = 0\n",
    "    out[max_idx] = 1\n",
    "    return list(out)\n",
    "\n",
    "def predict(network: lb.Net, input_patterns: np.ndarray) -> np.ndarray:\n",
    "    \"\"\"Calculates predictions for an array of input patterns.\n",
    "    \n",
    "    Args:\n",
    "        network: The trained network.\n",
    "        input_patterns: An array of shape (n_samples, n_features)\n",
    "        containing the input patterns for which to calculate predictions.\n",
    "\n",
    "    Returns:\n",
    "        np.ndarray: An array of shape (n_samples, n_features) containing the\n",
    "        predictions for the input patterns.\n",
    "    \"\"\"\n",
    "    outputs = []\n",
    "    for item in tqdm(input_patterns, leave=False):\n",
    "        outputs.append(output(network, item))\n",
    "    return np.array(outputs)"
   ]
  },
  {
   "cell_type": "code",
   "execution_count": 4,
   "id": "perceived-penetration",
   "metadata": {},
   "outputs": [
    {
     "name": "stdout",
     "output_type": "stream",
     "text": [
      "INFO Begin training mnist\n"
     ]
    }
   ],
   "source": [
    "PROJ_NAME = \"mnist\"\n",
    "np.seterr(\"warn\")\n",
    "logging.basicConfig(\n",
    "    level=logging.DEBUG,\n",
    "    format=\"%(levelname)s %(message)s\",\n",
    "    handlers=(\n",
    "        logging.FileHandler(\n",
    "            \"{0}_log.txt\".format(PROJ_NAME), mode=\"w\"),\n",
    "        logging.StreamHandler(sys.stdout)))\n",
    "\n",
    "logging.info(\"Begin training %s\", PROJ_NAME)"
   ]
  },
  {
   "cell_type": "code",
   "execution_count": 5,
   "id": "involved-truth",
   "metadata": {},
   "outputs": [
    {
     "name": "stdout",
     "output_type": "stream",
     "text": [
      "INFO Building network\n",
      "DEBUG Input layer size: 784\n",
      "DEBUG Hidden layer size: 88\n",
      "DEBUG Output layer size: 10\n",
      "INFO Begin training\n",
      "DEBUG Training set size: 1000\n",
      "DEBUG Test set size: 1000\n"
     ]
    },
    {
     "data": {
      "application/vnd.jupyter.widget-view+json": {
       "model_id": "",
       "version_major": 2,
       "version_minor": 0
      },
      "text/plain": [
       "  0%|          | 0/1000 [00:00<?, ?it/s]"
      ]
     },
     "metadata": {},
     "output_type": "display_data"
    },
    {
     "data": {
      "application/vnd.jupyter.widget-view+json": {
       "model_id": "",
       "version_major": 2,
       "version_minor": 0
      },
      "text/plain": [
       "  0%|          | 0/1000 [00:00<?, ?it/s]"
      ]
     },
     "metadata": {},
     "output_type": "display_data"
    },
    {
     "data": {
      "application/vnd.jupyter.widget-view+json": {
       "model_id": "",
       "version_major": 2,
       "version_minor": 0
      },
      "text/plain": [
       "  0%|          | 0/1000 [00:00<?, ?it/s]"
      ]
     },
     "metadata": {},
     "output_type": "display_data"
    },
    {
     "name": "stdout",
     "output_type": "stream",
     "text": [
      "INFO [Epoch 1]  train_loss: 0.1856  train_accuracy: 0.07  test_loss: 0.1930  test_accuracy: 0.04\n"
     ]
    },
    {
     "data": {
      "application/vnd.jupyter.widget-view+json": {
       "model_id": "",
       "version_major": 2,
       "version_minor": 0
      },
      "text/plain": [
       "  0%|          | 0/1000 [00:00<?, ?it/s]"
      ]
     },
     "metadata": {},
     "output_type": "display_data"
    },
    {
     "data": {
      "application/vnd.jupyter.widget-view+json": {
       "model_id": "",
       "version_major": 2,
       "version_minor": 0
      },
      "text/plain": [
       "  0%|          | 0/1000 [00:00<?, ?it/s]"
      ]
     },
     "metadata": {},
     "output_type": "display_data"
    },
    {
     "data": {
      "application/vnd.jupyter.widget-view+json": {
       "model_id": "",
       "version_major": 2,
       "version_minor": 0
      },
      "text/plain": [
       "  0%|          | 0/1000 [00:00<?, ?it/s]"
      ]
     },
     "metadata": {},
     "output_type": "display_data"
    },
    {
     "name": "stdout",
     "output_type": "stream",
     "text": [
      "INFO [Epoch 2]  train_loss: 0.1846  train_accuracy: 0.08  test_loss: 0.1882  test_accuracy: 0.06\n"
     ]
    },
    {
     "data": {
      "application/vnd.jupyter.widget-view+json": {
       "model_id": "",
       "version_major": 2,
       "version_minor": 0
      },
      "text/plain": [
       "  0%|          | 0/1000 [00:00<?, ?it/s]"
      ]
     },
     "metadata": {},
     "output_type": "display_data"
    },
    {
     "data": {
      "application/vnd.jupyter.widget-view+json": {
       "model_id": "",
       "version_major": 2,
       "version_minor": 0
      },
      "text/plain": [
       "  0%|          | 0/1000 [00:00<?, ?it/s]"
      ]
     },
     "metadata": {},
     "output_type": "display_data"
    },
    {
     "data": {
      "application/vnd.jupyter.widget-view+json": {
       "model_id": "",
       "version_major": 2,
       "version_minor": 0
      },
      "text/plain": [
       "  0%|          | 0/1000 [00:00<?, ?it/s]"
      ]
     },
     "metadata": {},
     "output_type": "display_data"
    },
    {
     "name": "stdout",
     "output_type": "stream",
     "text": [
      "INFO [Epoch 3]  train_loss: 0.1850  train_accuracy: 0.07  test_loss: 0.1846  test_accuracy: 0.08\n"
     ]
    },
    {
     "data": {
      "application/vnd.jupyter.widget-view+json": {
       "model_id": "",
       "version_major": 2,
       "version_minor": 0
      },
      "text/plain": [
       "  0%|          | 0/1000 [00:00<?, ?it/s]"
      ]
     },
     "metadata": {},
     "output_type": "display_data"
    },
    {
     "data": {
      "application/vnd.jupyter.widget-view+json": {
       "model_id": "",
       "version_major": 2,
       "version_minor": 0
      },
      "text/plain": [
       "  0%|          | 0/1000 [00:00<?, ?it/s]"
      ]
     },
     "metadata": {},
     "output_type": "display_data"
    },
    {
     "data": {
      "application/vnd.jupyter.widget-view+json": {
       "model_id": "",
       "version_major": 2,
       "version_minor": 0
      },
      "text/plain": [
       "  0%|          | 0/1000 [00:00<?, ?it/s]"
      ]
     },
     "metadata": {},
     "output_type": "display_data"
    },
    {
     "name": "stdout",
     "output_type": "stream",
     "text": [
      "INFO [Epoch 4]  train_loss: 0.1844  train_accuracy: 0.08  test_loss: 0.1840  test_accuracy: 0.08\n"
     ]
    },
    {
     "data": {
      "application/vnd.jupyter.widget-view+json": {
       "model_id": "",
       "version_major": 2,
       "version_minor": 0
      },
      "text/plain": [
       "  0%|          | 0/1000 [00:00<?, ?it/s]"
      ]
     },
     "metadata": {},
     "output_type": "display_data"
    },
    {
     "data": {
      "application/vnd.jupyter.widget-view+json": {
       "model_id": "",
       "version_major": 2,
       "version_minor": 0
      },
      "text/plain": [
       "  0%|          | 0/1000 [00:00<?, ?it/s]"
      ]
     },
     "metadata": {},
     "output_type": "display_data"
    },
    {
     "data": {
      "application/vnd.jupyter.widget-view+json": {
       "model_id": "",
       "version_major": 2,
       "version_minor": 0
      },
      "text/plain": [
       "  0%|          | 0/1000 [00:00<?, ?it/s]"
      ]
     },
     "metadata": {},
     "output_type": "display_data"
    },
    {
     "name": "stdout",
     "output_type": "stream",
     "text": [
      "INFO [Epoch 5]  train_loss: 0.1842  train_accuracy: 0.08  test_loss: 0.1838  test_accuracy: 0.08\n"
     ]
    },
    {
     "data": {
      "application/vnd.jupyter.widget-view+json": {
       "model_id": "",
       "version_major": 2,
       "version_minor": 0
      },
      "text/plain": [
       "  0%|          | 0/1000 [00:00<?, ?it/s]"
      ]
     },
     "metadata": {},
     "output_type": "display_data"
    },
    {
     "data": {
      "application/vnd.jupyter.widget-view+json": {
       "model_id": "",
       "version_major": 2,
       "version_minor": 0
      },
      "text/plain": [
       "  0%|          | 0/1000 [00:00<?, ?it/s]"
      ]
     },
     "metadata": {},
     "output_type": "display_data"
    },
    {
     "data": {
      "application/vnd.jupyter.widget-view+json": {
       "model_id": "",
       "version_major": 2,
       "version_minor": 0
      },
      "text/plain": [
       "  0%|          | 0/1000 [00:00<?, ?it/s]"
      ]
     },
     "metadata": {},
     "output_type": "display_data"
    },
    {
     "name": "stdout",
     "output_type": "stream",
     "text": [
      "INFO [Epoch 6]  train_loss: 0.1840  train_accuracy: 0.08  test_loss: 0.1840  test_accuracy: 0.08\n"
     ]
    },
    {
     "data": {
      "application/vnd.jupyter.widget-view+json": {
       "model_id": "",
       "version_major": 2,
       "version_minor": 0
      },
      "text/plain": [
       "  0%|          | 0/1000 [00:00<?, ?it/s]"
      ]
     },
     "metadata": {},
     "output_type": "display_data"
    },
    {
     "data": {
      "application/vnd.jupyter.widget-view+json": {
       "model_id": "",
       "version_major": 2,
       "version_minor": 0
      },
      "text/plain": [
       "  0%|          | 0/1000 [00:00<?, ?it/s]"
      ]
     },
     "metadata": {},
     "output_type": "display_data"
    },
    {
     "data": {
      "application/vnd.jupyter.widget-view+json": {
       "model_id": "",
       "version_major": 2,
       "version_minor": 0
      },
      "text/plain": [
       "  0%|          | 0/1000 [00:00<?, ?it/s]"
      ]
     },
     "metadata": {},
     "output_type": "display_data"
    },
    {
     "name": "stdout",
     "output_type": "stream",
     "text": [
      "INFO [Epoch 7]  train_loss: 0.1832  train_accuracy: 0.08  test_loss: 0.1838  test_accuracy: 0.08\n"
     ]
    },
    {
     "data": {
      "application/vnd.jupyter.widget-view+json": {
       "model_id": "",
       "version_major": 2,
       "version_minor": 0
      },
      "text/plain": [
       "  0%|          | 0/1000 [00:00<?, ?it/s]"
      ]
     },
     "metadata": {},
     "output_type": "display_data"
    },
    {
     "data": {
      "application/vnd.jupyter.widget-view+json": {
       "model_id": "",
       "version_major": 2,
       "version_minor": 0
      },
      "text/plain": [
       "  0%|          | 0/1000 [00:00<?, ?it/s]"
      ]
     },
     "metadata": {},
     "output_type": "display_data"
    },
    {
     "data": {
      "application/vnd.jupyter.widget-view+json": {
       "model_id": "",
       "version_major": 2,
       "version_minor": 0
      },
      "text/plain": [
       "  0%|          | 0/1000 [00:00<?, ?it/s]"
      ]
     },
     "metadata": {},
     "output_type": "display_data"
    },
    {
     "name": "stdout",
     "output_type": "stream",
     "text": [
      "INFO [Epoch 8]  train_loss: 0.1790  train_accuracy: 0.10  test_loss: 0.1798  test_accuracy: 0.10\n"
     ]
    },
    {
     "data": {
      "application/vnd.jupyter.widget-view+json": {
       "model_id": "",
       "version_major": 2,
       "version_minor": 0
      },
      "text/plain": [
       "  0%|          | 0/1000 [00:00<?, ?it/s]"
      ]
     },
     "metadata": {},
     "output_type": "display_data"
    },
    {
     "data": {
      "application/vnd.jupyter.widget-view+json": {
       "model_id": "",
       "version_major": 2,
       "version_minor": 0
      },
      "text/plain": [
       "  0%|          | 0/1000 [00:00<?, ?it/s]"
      ]
     },
     "metadata": {},
     "output_type": "display_data"
    },
    {
     "data": {
      "application/vnd.jupyter.widget-view+json": {
       "model_id": "",
       "version_major": 2,
       "version_minor": 0
      },
      "text/plain": [
       "  0%|          | 0/1000 [00:00<?, ?it/s]"
      ]
     },
     "metadata": {},
     "output_type": "display_data"
    },
    {
     "name": "stdout",
     "output_type": "stream",
     "text": [
      "INFO [Epoch 9]  train_loss: 0.1776  train_accuracy: 0.11  test_loss: 0.1804  test_accuracy: 0.10\n"
     ]
    },
    {
     "data": {
      "application/vnd.jupyter.widget-view+json": {
       "model_id": "",
       "version_major": 2,
       "version_minor": 0
      },
      "text/plain": [
       "  0%|          | 0/1000 [00:00<?, ?it/s]"
      ]
     },
     "metadata": {},
     "output_type": "display_data"
    },
    {
     "data": {
      "application/vnd.jupyter.widget-view+json": {
       "model_id": "",
       "version_major": 2,
       "version_minor": 0
      },
      "text/plain": [
       "  0%|          | 0/1000 [00:00<?, ?it/s]"
      ]
     },
     "metadata": {},
     "output_type": "display_data"
    },
    {
     "data": {
      "application/vnd.jupyter.widget-view+json": {
       "model_id": "",
       "version_major": 2,
       "version_minor": 0
      },
      "text/plain": [
       "  0%|          | 0/1000 [00:00<?, ?it/s]"
      ]
     },
     "metadata": {},
     "output_type": "display_data"
    },
    {
     "name": "stdout",
     "output_type": "stream",
     "text": [
      "INFO [Epoch 10]  train_loss: 0.1768  train_accuracy: 0.12  test_loss: 0.1818  test_accuracy: 0.09\n"
     ]
    },
    {
     "data": {
      "application/vnd.jupyter.widget-view+json": {
       "model_id": "",
       "version_major": 2,
       "version_minor": 0
      },
      "text/plain": [
       "  0%|          | 0/1000 [00:00<?, ?it/s]"
      ]
     },
     "metadata": {},
     "output_type": "display_data"
    },
    {
     "data": {
      "application/vnd.jupyter.widget-view+json": {
       "model_id": "",
       "version_major": 2,
       "version_minor": 0
      },
      "text/plain": [
       "  0%|          | 0/1000 [00:00<?, ?it/s]"
      ]
     },
     "metadata": {},
     "output_type": "display_data"
    },
    {
     "data": {
      "application/vnd.jupyter.widget-view+json": {
       "model_id": "",
       "version_major": 2,
       "version_minor": 0
      },
      "text/plain": [
       "  0%|          | 0/1000 [00:00<?, ?it/s]"
      ]
     },
     "metadata": {},
     "output_type": "display_data"
    },
    {
     "name": "stdout",
     "output_type": "stream",
     "text": [
      "INFO [Epoch 11]  train_loss: 0.1770  train_accuracy: 0.12  test_loss: 0.1820  test_accuracy: 0.09\n"
     ]
    },
    {
     "data": {
      "application/vnd.jupyter.widget-view+json": {
       "model_id": "",
       "version_major": 2,
       "version_minor": 0
      },
      "text/plain": [
       "  0%|          | 0/1000 [00:00<?, ?it/s]"
      ]
     },
     "metadata": {},
     "output_type": "display_data"
    },
    {
     "data": {
      "application/vnd.jupyter.widget-view+json": {
       "model_id": "",
       "version_major": 2,
       "version_minor": 0
      },
      "text/plain": [
       "  0%|          | 0/1000 [00:00<?, ?it/s]"
      ]
     },
     "metadata": {},
     "output_type": "display_data"
    },
    {
     "data": {
      "application/vnd.jupyter.widget-view+json": {
       "model_id": "",
       "version_major": 2,
       "version_minor": 0
      },
      "text/plain": [
       "  0%|          | 0/1000 [00:00<?, ?it/s]"
      ]
     },
     "metadata": {},
     "output_type": "display_data"
    },
    {
     "name": "stdout",
     "output_type": "stream",
     "text": [
      "INFO [Epoch 12]  train_loss: 0.1764  train_accuracy: 0.12  test_loss: 0.1814  test_accuracy: 0.09\n"
     ]
    },
    {
     "data": {
      "application/vnd.jupyter.widget-view+json": {
       "model_id": "",
       "version_major": 2,
       "version_minor": 0
      },
      "text/plain": [
       "  0%|          | 0/1000 [00:00<?, ?it/s]"
      ]
     },
     "metadata": {},
     "output_type": "display_data"
    },
    {
     "data": {
      "application/vnd.jupyter.widget-view+json": {
       "model_id": "",
       "version_major": 2,
       "version_minor": 0
      },
      "text/plain": [
       "  0%|          | 0/1000 [00:00<?, ?it/s]"
      ]
     },
     "metadata": {},
     "output_type": "display_data"
    },
    {
     "data": {
      "application/vnd.jupyter.widget-view+json": {
       "model_id": "",
       "version_major": 2,
       "version_minor": 0
      },
      "text/plain": [
       "  0%|          | 0/1000 [00:00<?, ?it/s]"
      ]
     },
     "metadata": {},
     "output_type": "display_data"
    },
    {
     "name": "stdout",
     "output_type": "stream",
     "text": [
      "INFO [Epoch 13]  train_loss: 0.1764  train_accuracy: 0.12  test_loss: 0.1808  test_accuracy: 0.10\n"
     ]
    },
    {
     "data": {
      "application/vnd.jupyter.widget-view+json": {
       "model_id": "",
       "version_major": 2,
       "version_minor": 0
      },
      "text/plain": [
       "  0%|          | 0/1000 [00:00<?, ?it/s]"
      ]
     },
     "metadata": {},
     "output_type": "display_data"
    },
    {
     "data": {
      "application/vnd.jupyter.widget-view+json": {
       "model_id": "",
       "version_major": 2,
       "version_minor": 0
      },
      "text/plain": [
       "  0%|          | 0/1000 [00:00<?, ?it/s]"
      ]
     },
     "metadata": {},
     "output_type": "display_data"
    },
    {
     "data": {
      "application/vnd.jupyter.widget-view+json": {
       "model_id": "",
       "version_major": 2,
       "version_minor": 0
      },
      "text/plain": [
       "  0%|          | 0/1000 [00:00<?, ?it/s]"
      ]
     },
     "metadata": {},
     "output_type": "display_data"
    },
    {
     "name": "stdout",
     "output_type": "stream",
     "text": [
      "INFO [Epoch 14]  train_loss: 0.1764  train_accuracy: 0.12  test_loss: 0.1816  test_accuracy: 0.09\n"
     ]
    },
    {
     "data": {
      "application/vnd.jupyter.widget-view+json": {
       "model_id": "",
       "version_major": 2,
       "version_minor": 0
      },
      "text/plain": [
       "  0%|          | 0/1000 [00:00<?, ?it/s]"
      ]
     },
     "metadata": {},
     "output_type": "display_data"
    },
    {
     "data": {
      "application/vnd.jupyter.widget-view+json": {
       "model_id": "",
       "version_major": 2,
       "version_minor": 0
      },
      "text/plain": [
       "  0%|          | 0/1000 [00:00<?, ?it/s]"
      ]
     },
     "metadata": {},
     "output_type": "display_data"
    },
    {
     "data": {
      "application/vnd.jupyter.widget-view+json": {
       "model_id": "",
       "version_major": 2,
       "version_minor": 0
      },
      "text/plain": [
       "  0%|          | 0/1000 [00:00<?, ?it/s]"
      ]
     },
     "metadata": {},
     "output_type": "display_data"
    },
    {
     "name": "stdout",
     "output_type": "stream",
     "text": [
      "INFO [Epoch 15]  train_loss: 0.1768  train_accuracy: 0.12  test_loss: 0.1816  test_accuracy: 0.09\n"
     ]
    },
    {
     "data": {
      "application/vnd.jupyter.widget-view+json": {
       "model_id": "",
       "version_major": 2,
       "version_minor": 0
      },
      "text/plain": [
       "  0%|          | 0/1000 [00:00<?, ?it/s]"
      ]
     },
     "metadata": {},
     "output_type": "display_data"
    },
    {
     "data": {
      "application/vnd.jupyter.widget-view+json": {
       "model_id": "",
       "version_major": 2,
       "version_minor": 0
      },
      "text/plain": [
       "  0%|          | 0/1000 [00:00<?, ?it/s]"
      ]
     },
     "metadata": {},
     "output_type": "display_data"
    },
    {
     "data": {
      "application/vnd.jupyter.widget-view+json": {
       "model_id": "",
       "version_major": 2,
       "version_minor": 0
      },
      "text/plain": [
       "  0%|          | 0/1000 [00:00<?, ?it/s]"
      ]
     },
     "metadata": {},
     "output_type": "display_data"
    },
    {
     "name": "stdout",
     "output_type": "stream",
     "text": [
      "INFO [Epoch 16]  train_loss: 0.1768  train_accuracy: 0.12  test_loss: 0.1808  test_accuracy: 0.10\n"
     ]
    },
    {
     "data": {
      "application/vnd.jupyter.widget-view+json": {
       "model_id": "",
       "version_major": 2,
       "version_minor": 0
      },
      "text/plain": [
       "  0%|          | 0/1000 [00:00<?, ?it/s]"
      ]
     },
     "metadata": {},
     "output_type": "display_data"
    },
    {
     "data": {
      "application/vnd.jupyter.widget-view+json": {
       "model_id": "",
       "version_major": 2,
       "version_minor": 0
      },
      "text/plain": [
       "  0%|          | 0/1000 [00:00<?, ?it/s]"
      ]
     },
     "metadata": {},
     "output_type": "display_data"
    },
    {
     "data": {
      "application/vnd.jupyter.widget-view+json": {
       "model_id": "",
       "version_major": 2,
       "version_minor": 0
      },
      "text/plain": [
       "  0%|          | 0/1000 [00:00<?, ?it/s]"
      ]
     },
     "metadata": {},
     "output_type": "display_data"
    },
    {
     "name": "stdout",
     "output_type": "stream",
     "text": [
      "INFO [Epoch 17]  train_loss: 0.1764  train_accuracy: 0.12  test_loss: 0.1810  test_accuracy: 0.10\n"
     ]
    },
    {
     "data": {
      "application/vnd.jupyter.widget-view+json": {
       "model_id": "",
       "version_major": 2,
       "version_minor": 0
      },
      "text/plain": [
       "  0%|          | 0/1000 [00:00<?, ?it/s]"
      ]
     },
     "metadata": {},
     "output_type": "display_data"
    },
    {
     "data": {
      "application/vnd.jupyter.widget-view+json": {
       "model_id": "",
       "version_major": 2,
       "version_minor": 0
      },
      "text/plain": [
       "  0%|          | 0/1000 [00:00<?, ?it/s]"
      ]
     },
     "metadata": {},
     "output_type": "display_data"
    },
    {
     "data": {
      "application/vnd.jupyter.widget-view+json": {
       "model_id": "",
       "version_major": 2,
       "version_minor": 0
      },
      "text/plain": [
       "  0%|          | 0/1000 [00:00<?, ?it/s]"
      ]
     },
     "metadata": {},
     "output_type": "display_data"
    },
    {
     "name": "stdout",
     "output_type": "stream",
     "text": [
      "INFO [Epoch 18]  train_loss: 0.1768  train_accuracy: 0.12  test_loss: 0.1816  test_accuracy: 0.09\n"
     ]
    },
    {
     "data": {
      "application/vnd.jupyter.widget-view+json": {
       "model_id": "",
       "version_major": 2,
       "version_minor": 0
      },
      "text/plain": [
       "  0%|          | 0/1000 [00:00<?, ?it/s]"
      ]
     },
     "metadata": {},
     "output_type": "display_data"
    },
    {
     "data": {
      "application/vnd.jupyter.widget-view+json": {
       "model_id": "",
       "version_major": 2,
       "version_minor": 0
      },
      "text/plain": [
       "  0%|          | 0/1000 [00:00<?, ?it/s]"
      ]
     },
     "metadata": {},
     "output_type": "display_data"
    },
    {
     "data": {
      "application/vnd.jupyter.widget-view+json": {
       "model_id": "",
       "version_major": 2,
       "version_minor": 0
      },
      "text/plain": [
       "  0%|          | 0/1000 [00:00<?, ?it/s]"
      ]
     },
     "metadata": {},
     "output_type": "display_data"
    },
    {
     "name": "stdout",
     "output_type": "stream",
     "text": [
      "INFO [Epoch 19]  train_loss: 0.1768  train_accuracy: 0.12  test_loss: 0.1810  test_accuracy: 0.10\n"
     ]
    },
    {
     "data": {
      "application/vnd.jupyter.widget-view+json": {
       "model_id": "",
       "version_major": 2,
       "version_minor": 0
      },
      "text/plain": [
       "  0%|          | 0/1000 [00:00<?, ?it/s]"
      ]
     },
     "metadata": {},
     "output_type": "display_data"
    },
    {
     "data": {
      "application/vnd.jupyter.widget-view+json": {
       "model_id": "",
       "version_major": 2,
       "version_minor": 0
      },
      "text/plain": [
       "  0%|          | 0/1000 [00:00<?, ?it/s]"
      ]
     },
     "metadata": {},
     "output_type": "display_data"
    },
    {
     "data": {
      "application/vnd.jupyter.widget-view+json": {
       "model_id": "",
       "version_major": 2,
       "version_minor": 0
      },
      "text/plain": [
       "  0%|          | 0/1000 [00:00<?, ?it/s]"
      ]
     },
     "metadata": {},
     "output_type": "display_data"
    },
    {
     "name": "stdout",
     "output_type": "stream",
     "text": [
      "INFO [Epoch 20]  train_loss: 0.1774  train_accuracy: 0.11  test_loss: 0.1812  test_accuracy: 0.09\n",
      "INFO End training\n"
     ]
    }
   ],
   "source": [
    "X_train, Y_train, X_test, Y_test = load_data(train_length=1000, test_length=1000)\n",
    "input_size = X_train.shape[1]\n",
    "output_size = Y_train.shape[1]\n",
    "hidden_size = np.int(np.sqrt(input_size*output_size))\n",
    "net = build_network(input_size, hidden_size, output_size, lrate=0.001)\n",
    "\n",
    "metrics = train(net, X_train, Y_train, X_test, Y_test, num_epochs=20)\n",
    "\n",
    "# Save metrics and network for future analysis\n",
    "metrics.to_csv(\"{0}_metrics.csv\".format(PROJ_NAME), index=False)\n",
    "net.save(\"{0}_network.pkl\".format(PROJ_NAME))"
   ]
  }
 ],
 "metadata": {
  "kernelspec": {
   "display_name": "Python 3",
   "language": "python",
   "name": "python3"
  },
  "language_info": {
   "codemirror_mode": {
    "name": "ipython",
    "version": 3
   },
   "file_extension": ".py",
   "mimetype": "text/x-python",
   "name": "python",
   "nbconvert_exporter": "python",
   "pygments_lexer": "ipython3",
   "version": "3.8.5"
  }
 },
 "nbformat": 4,
 "nbformat_minor": 5
}
