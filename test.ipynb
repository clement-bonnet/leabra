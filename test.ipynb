{
 "cells": [
  {
   "cell_type": "code",
   "execution_count": 1,
   "id": "basic-shark",
   "metadata": {},
   "outputs": [],
   "source": [
    "# import warnings\n",
    "# warnings.filterwarnings('ignore')\n",
    "\n",
    "import sklearn\n",
    "from sklearn import datasets, preprocessing\n",
    "import leabra7 as lb\n",
    "import numpy as np"
   ]
  },
  {
   "cell_type": "code",
   "execution_count": 2,
   "id": "going-family",
   "metadata": {},
   "outputs": [
    {
     "name": "stdout",
     "output_type": "stream",
     "text": [
      "Number of items: 1797\n"
     ]
    }
   ],
   "source": [
    "data = datasets.load_digits()\n",
    "label_binarizer = preprocessing.LabelBinarizer()\n",
    "quant = preprocessing.QuantileTransformer()\n",
    "Y = label_binarizer.fit_transform(data.target)\n",
    "X = quant.fit_transform(data.data)\n",
    "X = np.digitize(X, bins=np.linspace(0.0, 1.0, num=4))\n",
    "one_hot = preprocessing.OneHotEncoder(sparse=False)\n",
    "X = one_hot.fit_transform(X)\n",
    "X, Y = sklearn.utils.shuffle(X, Y)\n",
    "\n",
    "print(\"Number of items: {0}\".format(X.shape[0]))"
   ]
  },
  {
   "cell_type": "code",
   "execution_count": 3,
   "id": "after-education",
   "metadata": {},
   "outputs": [
    {
     "name": "stdout",
     "output_type": "stream",
     "text": [
      "Input size: 222. Hidden size: 148. Output size: 10\n"
     ]
    },
    {
     "name": "stderr",
     "output_type": "stream",
     "text": [
      "/usr/local/lib/python3.8/dist-packages/Leabra7-0.1.dev1-py3.8.egg/leabra7/projn.py:117: UserWarning: This overload of nonzero is deprecated:\n",
      "\tnonzero()\n",
      "Consider using one of the following signatures instead:\n",
      "\tnonzero(*, bool as_tuple) (Triggered internally at  /pytorch/torch/csrc/utils/python_arg_parser.cpp:882.)\n",
      "/usr/local/lib/python3.8/dist-packages/Leabra7-0.1.dev1-py3.8.egg/leabra7/projn.py:219: UserWarning: indexing with dtype torch.uint8 is now deprecated, please use a dtype torch.bool instead. (Triggered internally at  /pytorch/aten/src/ATen/native/IndexingUtils.h:25.)\n"
     ]
    }
   ],
   "source": [
    "# Create the basic network architecture\n",
    "net = lb.Net()\n",
    "\n",
    "learn_rate = 0.01\n",
    "\n",
    "# Layers\n",
    "layer_spec = lb.LayerSpec(gi=1.5, fb=0.5)\n",
    "input_size = X.shape[1]\n",
    "hidden_size = int(0.67 * X.shape[1])\n",
    "output_size = Y.shape[1]\n",
    "net.new_layer(\"input\", size=input_size, spec=layer_spec)\n",
    "net.new_layer(\"hidden\", size=hidden_size, spec=layer_spec)\n",
    "net.new_layer(\"output\", size=output_size, spec=layer_spec)\n",
    "print(\"Input size: {0}. Hidden size: {1}. Output size: {2}\".format(\n",
    "      input_size, hidden_size, output_size))\n",
    "\n",
    "# Projections\n",
    "lrate = 0.04\n",
    "spec = lb.ProjnSpec(lrate=lrate, dist=lb.Uniform(0.25, 0.75))\n",
    "top_down = lb.ProjnSpec(lrate=lrate, dist=lb.Uniform(0.25, 0.75), wt_scale_rel=0.3)\n",
    "net.new_projn(\"input_to_hidden\", pre=\"input\", post=\"hidden\", spec=spec)\n",
    "net.new_projn(\"hidden_to_output\", pre=\"hidden\", post=\"output\", spec=spec)\n",
    "net.new_projn(\"output_to_hidden\", pre=\"output\", post=\"hidden\", spec=top_down)"
   ]
  },
  {
   "cell_type": "code",
   "execution_count": null,
   "id": "horizontal-insulation",
   "metadata": {},
   "outputs": [],
   "source": []
  },
  {
   "cell_type": "code",
   "execution_count": 5,
   "id": "virgin-hurricane",
   "metadata": {},
   "outputs": [],
   "source": []
  },
  {
   "cell_type": "code",
   "execution_count": null,
   "id": "photographic-collins",
   "metadata": {},
   "outputs": [],
   "source": []
  }
 ],
 "metadata": {
  "kernelspec": {
   "display_name": "Python 3",
   "language": "python",
   "name": "python3"
  },
  "language_info": {
   "codemirror_mode": {
    "name": "ipython",
    "version": 3
   },
   "file_extension": ".py",
   "mimetype": "text/x-python",
   "name": "python",
   "nbconvert_exporter": "python",
   "pygments_lexer": "ipython3",
   "version": "3.8.5"
  }
 },
 "nbformat": 4,
 "nbformat_minor": 5
}
